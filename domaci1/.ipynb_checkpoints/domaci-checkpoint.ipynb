{
 "cells": [
  {
   "cell_type": "code",
   "execution_count": 103,
   "metadata": {},
   "outputs": [],
   "source": [
    "import numpy as np\n",
    "import pandas as pd\n",
    "import math"
   ]
  },
  {
   "cell_type": "code",
   "execution_count": 104,
   "metadata": {},
   "outputs": [
    {
     "name": "stdout",
     "output_type": "stream",
     "text": [
      "  Бр.\\t\"Индекс\"\\t\"Име\"\\t\"Презиме\"\\t\"Колоквијуми и тестови 40\"\\t\"\"\\t\"Писмено-усмени испит 60\"\\t\"\"\\t\"Укупно 100\"\n",
      "0  1.\\t\" 132/2016\"\\t\"Пеђа\"\\t\"Аврамовић\"\\t\"0\"\\t\"\"\\...                                                          \n",
      "1  2.\\t\" 104/2016\"\\t\"Лука\"\\t\"Алексић\"\\t\"0\"\\t\"\"\\t\"...                                                          \n",
      "2  3.\\t\" 39/2017\"\\t\"Владимир\"\\t\"Арсенијевић\"\\t\"33...                                                          \n",
      "3  4.\\t\" 42/2017\"\\t\"Момир\"\\t\"Аџемовић\"\\t\"40\"\\t\" *...                                                          \n",
      "4  5.\\t\" 77/2017\"\\t\"Марко\"\\t\"Бабић\"\\t\"31\"\\t\"\"\\t\"-...                                                          \n"
     ]
    }
   ],
   "source": [
    "# Prva linija sadrzi samo rec \"Studenti\", tako da nju preskacemo.\n",
    "# Ukoliko rucno pokusamo da otvorimo fajl, mozemo videti da je njegovo kodiranje utf-16. To moramo specifikovati \n",
    "# ovde, inace se podaci nece lepo ucitati. \n",
    "data = pd.read_csv('unm.csv', encoding='utf-16', skiprows=1)\n",
    "\n",
    "# Metod head() nam vraca prvih pet redova ucitane tabele, sto nam je dovoljno za pregled trenutnog formata.\n",
    "print(data.head())"
   ]
  },
  {
   "cell_type": "code",
   "execution_count": 105,
   "metadata": {},
   "outputs": [
    {
     "name": "stdout",
     "output_type": "stream",
     "text": [
      "(214, 1)\n"
     ]
    }
   ],
   "source": [
    "print(data.shape)"
   ]
  },
  {
   "cell_type": "markdown",
   "metadata": {},
   "source": [
    "Dimenzije ove tabele nisu ono sto nam je potrebno. Vidimo da su svi podaci zapravo sacuvani kao jedan red, sto znaci da ih nekako moramo razdvojiti. Srecom, funkcija `read_csv` ima parametar `delimiter`, koji ce nam ovde mnogo olaksati posao. Iznad mozemo videti da su nam kolone odvojene karakterom `\\t`. Treba se naglasiti i da se dupli navodnici koje vidimo odnose na imena kolona u originalnoj tabeli, pa tako njih ne treba racunati u granicnik (delimiter), vec ce oni automatski biti isparsirani kao ime kolone kada podatke odvojimo po karakteru `\\t`."
   ]
  },
  {
   "cell_type": "code",
   "execution_count": 106,
   "metadata": {},
   "outputs": [
    {
     "name": "stdout",
     "output_type": "stream",
     "text": [
      "   Бр.     Индекс       Име      Презиме  Колоквијуми и тестови 40 Unnamed: 5  \\\n",
      "0  1.0   132/2016      Пеђа    Аврамовић                       0.0        NaN   \n",
      "1  2.0   104/2016      Лука      Алексић                       0.0        NaN   \n",
      "2  3.0    39/2017  Владимир  Арсенијевић                      33.0        NaN   \n",
      "3  4.0    42/2017     Момир     Аџемовић                      40.0          *   \n",
      "4  5.0    77/2017     Марко        Бабић                      31.0        NaN   \n",
      "\n",
      "  Писмено-усмени испит 60  Unnamed: 7  Укупно 100  \n",
      "0                       -         NaN         0.0  \n",
      "1                       -         NaN         0.0  \n",
      "2                      35         NaN        68.0  \n",
      "3                      55         NaN        95.0  \n",
      "4                       -         NaN        31.0  \n"
     ]
    }
   ],
   "source": [
    "data_parsed = pd.read_csv(\"unm.csv\", encoding='utf-16', skiprows=1, delimiter='\\t')\n",
    "print(data_parsed.head())"
   ]
  },
  {
   "cell_type": "markdown",
   "metadata": {},
   "source": [
    "Vidimo da ovde imamo neke prazne kolone. U originalnoj tabeli, to su kolone koje su koriscene za ulepsavanje tabele ili cuvanje nekih dodatnih informacija o studentima (u nasem primeru, to je informacija o tome ko je imao dodatne poene). Kako ove kolone ne nose nikakve informacije od znacaja, mozemo ih odbaciti. Takodje, odbacicemo i prvu kolonu (\"Br.\"), jer vec imamo automatsko indeksiranje tabele. Biblioteka `pandas` nam opet moze pomoci."
   ]
  },
  {
   "cell_type": "code",
   "execution_count": 107,
   "metadata": {},
   "outputs": [
    {
     "name": "stdout",
     "output_type": "stream",
     "text": [
      "      Индекс       Име      Презиме  Колоквијуми и тестови 40  \\\n",
      "0   132/2016      Пеђа    Аврамовић                       0.0   \n",
      "1   104/2016      Лука      Алексић                       0.0   \n",
      "2    39/2017  Владимир  Арсенијевић                      33.0   \n",
      "3    42/2017     Момир     Аџемовић                      40.0   \n",
      "4    77/2017     Марко        Бабић                      31.0   \n",
      "\n",
      "  Писмено-усмени испит 60  Укупно 100  \n",
      "0                       -         0.0  \n",
      "1                       -         0.0  \n",
      "2                      35        68.0  \n",
      "3                      55        95.0  \n",
      "4                       -        31.0  \n"
     ]
    }
   ],
   "source": [
    "# S obzirom da su podaci na cirilici, ovde cemo na nestandardan nacin selektovati potrebne kolone. Generalno,\n",
    "# sledeci blok koda mogao je biti zamenjen jednostavnim:\n",
    "# data_new = data_parsed[['Ime', 'Prezime', ...]]\n",
    "\n",
    "imena_kolona = data_parsed.keys()\n",
    "potrebne_kolone = imena_kolona[[1,2,3,4,6,8]]\n",
    "data_clean = data_parsed[potrebne_kolone]\n",
    "print(data_clean.head())"
   ]
  },
  {
   "cell_type": "markdown",
   "metadata": {},
   "source": [
    "Trenutno imamo ociscenu tabelu rezultata ostvarenih na kursu UNM na kraju roka JAN2. Eksportovacemo ovo za eventualnu kasniju obradu, a onda dalje obradjivati podatke, da bismo dobili raspodelu bodova predispitnih i ispitnih obaveza."
   ]
  },
  {
   "cell_type": "code",
   "execution_count": 108,
   "metadata": {},
   "outputs": [],
   "source": [
    "data_clean.to_csv('unm_clean.csv', encoding='utf-16')"
   ]
  },
  {
   "cell_type": "markdown",
   "metadata": {},
   "source": [
    "Sada prelazimo na dalju obradu. Nakon sto smo eksportovali podatke u obliku ocekivanom za nekoga ko ce ih mozda kasnije koristiti, sada mozemo, radi lakse obrade za nas, preimenovati kolone u reci na latinici."
   ]
  },
  {
   "cell_type": "code",
   "execution_count": 109,
   "metadata": {},
   "outputs": [
    {
     "name": "stdout",
     "output_type": "stream",
     "text": [
      "      Indeks       Ime      Prezime  PredispitneObaveze IspitneObaveze  Ukupno\n",
      "0   132/2016      Пеђа    Аврамовић                 0.0              -     0.0\n",
      "1   104/2016      Лука      Алексић                 0.0              -     0.0\n",
      "2    39/2017  Владимир  Арсенијевић                33.0             35    68.0\n",
      "3    42/2017     Момир     Аџемовић                40.0             55    95.0\n",
      "4    77/2017     Марко        Бабић                31.0              -    31.0\n"
     ]
    }
   ],
   "source": [
    "data_clean.columns = ['Indeks', 'Ime', 'Prezime', 'PredispitneObaveze', 'IspitneObaveze', 'Ukupno']\n",
    "print(data_clean.head())"
   ]
  },
  {
   "cell_type": "markdown",
   "metadata": {},
   "source": [
    "Za konstruisanje histograma raspodele poena na predispitnim obavezama, izdvajamo odgovarajucu kolonu u niz."
   ]
  },
  {
   "cell_type": "code",
   "execution_count": 110,
   "metadata": {},
   "outputs": [
    {
     "name": "stdout",
     "output_type": "stream",
     "text": [
      "[ 0.  0. 33. 40. 31.  9.  0.  0. 19. 40. 40. 13.  7. 15. 11.  0.  7.  0.\n",
      " 33. 26. 21. 39. 40. 32. 40.  0. 22. 20. 40. 30.  0. 10. 13.  8.  0.  8.\n",
      "  9.  7.  1. 40.  5. 21. 20. 40. 28.  7.  0.  0. 40. 28. 34. 15. 26.  0.\n",
      "  0.  0. 11.  3. 18. 20. 34.  0. 15. 14. 12. 33. 24.  0. 13. 38. 30.  7.\n",
      "  0. 15. 13. 26.  4.  0. 20.  0. 35.  0.  2. 30. 13. 13.  0.  0. 20. 37.\n",
      " 30. 16. 35. 23. 32.  0. 14. 13. 15. 22. 24.  7.  7. 39. 35.  0.  4. 22.\n",
      "  0.  0. 23. 40.  8.  0. 16. 15.  0. 22.  9.  5. 40. 19. 30.  0.  7. 23.\n",
      " 38.  0. 25.  0.  0. 40. 21.  0.  0. 20. 20. 16. 26. 21. 25.  9.  0. 40.\n",
      "  0.  0. 25. 27.  4. 20.  0. 40.  0. 17.  0.  3. 22.  0. 16.  7. 13.  3.\n",
      " 27. 28.  5. 40.  7.  0. 13. 16. 31. 35. 39.  0.  3. 10. 18. 25.  0. 24.\n",
      " 31.  2. 40. 30. 30.  0. 24. 14. 39. 24. 40. 10.  0.  1. 18. 11. 34. 17.\n",
      " 15. 14. 34. 40. 35. 21.  0.  2. 40. 40. 37.  7.  9. 22.  0.]\n"
     ]
    }
   ],
   "source": [
    "predispitne = np.array(data_clean['PredispitneObaveze'])\n",
    "# Uklanjanje eventualnih 'nan' vrednosti.\n",
    "# isnan(x) vraca indekse svih elemenata koji jesu nan, a '~isnan(x)' komplement toga u skupu indeksa.\n",
    "predispitne = predispitne[~np.isnan(predispitne)]\n",
    "print(predispitne)"
   ]
  },
  {
   "cell_type": "code",
   "execution_count": 122,
   "metadata": {},
   "outputs": [
    {
     "name": "stdout",
     "output_type": "stream",
     "text": [
      "Duzina: 213\n",
      "Broj kategorija: 8\n",
      "Duzina podeoka: 5.0\n"
     ]
    }
   ],
   "source": [
    "# Moramo sortirati niz da bismo mogli da napravimo pravilan histogram.\n",
    "predispitne = np.sort(predispitne)\n",
    "\n",
    "# Odredjujemo broj podeoka histograma.\n",
    "duzina = predispitne.size\n",
    "k = math.floor(math.log(duzina, 2)) + 1\n",
    "d = (predispitne[duzina - 1] - predispitne[0]) / k\n",
    "print(\"Duzina: {0}\\nBroj kategorija: {1}\\nDuzina podeoka: {2}\".format(duzina, k, d))"
   ]
  },
  {
   "cell_type": "code",
   "execution_count": 197,
   "metadata": {},
   "outputs": [
    {
     "data": {
      "image/png": "[encoded data removed]",
      "text/plain": [
       "<Figure size 432x288 with 1 Axes>"
      ]
     },
     "metadata": {
      "needs_background": "light"
     },
     "output_type": "display_data"
    }
   ],
   "source": [
    "import matplotlib.pyplot as plt\n",
    "\n",
    "plt.hist(predispitne, bins=k, color='blue')\n",
    "plt.xlabel('Broj poena')\n",
    "plt.ylabel('Broj studenata')\n",
    "plt.title('Raspodela poena na predispitnim obavezama')\n",
    "plt.grid(True)\n",
    "# plt.savefig() se mora pozvati pre plt.show(), jer plt.show() \"prazni bafer za sliku\". Medjutim, posto nam je \n",
    "# potrebno da samo jednom izgenerisemo sliku, ostavicemo ovu liniju pod komentarom.\n",
    "# plt.savefig(\"predispitne.png\")\n",
    "plt.show()"
   ]
  },
  {
   "cell_type": "code",
   "execution_count": 177,
   "metadata": {},
   "outputs": [
    {
     "name": "stdout",
     "output_type": "stream",
     "text": [
      "60\n"
     ]
    }
   ],
   "source": [
    "# Provera rezultata\n",
    "print(predispitne[predispitne < 5].size)"
   ]
  },
  {
   "cell_type": "markdown",
   "metadata": {},
   "source": [
    "Sada cemo konstruisati i histogram raspodele poena na ispitu, u rokovima JAN1 i JAN2, zajedno."
   ]
  },
  {
   "cell_type": "code",
   "execution_count": 178,
   "metadata": {},
   "outputs": [
    {
     "name": "stdout",
     "output_type": "stream",
     "text": [
      "['-' '-' '35' '55' '-' '-' '-' '-' '-' '-' '57' '-' '-' '-' '-' '-' '-'\n",
      " '-' '30' '-' '35' '58' '43' '42' '60' '-' '-' '-' '56' '-' '-' '-' '-'\n",
      " '-' '-' '-' '-' '-' '-' '-' '-' '-' '44' '58' '35' '-' '-' '-' '35' '36'\n",
      " '50' '-' '-' '-' '-' '-' '-' '-' '-' '44' '53' '-' '-' '57' '-' '44' '32'\n",
      " '-' '-' '-' '38' '-' '-' '-' '-' '51' '-' '-' '-' '-' '49' '-' '-' '-'\n",
      " '-' '-' '-' '-' '-' '32' '-' '-' '-' '-' '-' '-' '-' '-' '36' '-' '-' '-'\n",
      " '-' '56' '41' '-' '-' '-' '-' '-' '-' '60' '-' '-' '55' '-' '-' '-' '-'\n",
      " '-' '60' '-' '37' '-' '-' '-' '58' '-' '42' '-' '-' '55' '-' '-' '-' '34'\n",
      " '37' '-' '49' '-' '-' '-' '-' '-' '-' '-' '-' '-' '-' '-' '-' '54' '-'\n",
      " '-' '-' '-' '-' '-' '-' '-' '-' '-' '-' '-' '-' '-' '-' '-' '-' '45' '43'\n",
      " '-' '52' '-' '-' '-' '-' '-' '-' '-' '-' '-' '-' '36' '-' '-' '57' '-'\n",
      " '59' '-' '43' '-' '-' '-' '-' '-' '50' '-' '-' '-' '35' '-' '-' '-' '-'\n",
      " '-' '55' '48' '-' '-' '-' '-' '-' nan]\n"
     ]
    }
   ],
   "source": [
    "ispitne = np.array(data_clean['IspitneObaveze'])\n",
    "print(ispitne)"
   ]
  },
  {
   "cell_type": "code",
   "execution_count": 179,
   "metadata": {},
   "outputs": [
    {
     "name": "stdout",
     "output_type": "stream",
     "text": [
      "[30. 32. 32. 34. 35. 35. 35. 35. 35. 36. 36. 36. 37. 37. 38. 41. 42. 42.\n",
      " 43. 43. 43. 44. 44. 44. 45. 48. 49. 49. 50. 50. 51. 52. 53. 54. 55. 55.\n",
      " 55. 55. 56. 56. 57. 57. 57. 58. 58. 58. 59. 60. 60. 60.]\n"
     ]
    }
   ],
   "source": [
    "# Ciscenje podataka\n",
    "ispitne = ispitne[ispitne != '-']\n",
    "# Zbog karaktera '-' nam je ceo niz konvertovan u karakterski niz, pa cemo ga vratiti nazad u celobrojni\n",
    "ispitne = pd.to_numeric(ispitne, errors='coerce')\n",
    "ispitne = ispitne[~np.isnan(ispitne)]\n",
    "ispitne = np.sort(ispitne)\n",
    "print(ispitne)"
   ]
  },
  {
   "cell_type": "code",
   "execution_count": 198,
   "metadata": {},
   "outputs": [
    {
     "name": "stdout",
     "output_type": "stream",
     "text": [
      "Duzina: 50\n",
      "Broj kategorija: 6\n",
      "Duzina podeoka: 5.0\n"
     ]
    },
    {
     "data": {
      "image/png": "[encoded data removed]",
      "text/plain": [
       "<Figure size 432x288 with 1 Axes>"
      ]
     },
     "metadata": {
      "needs_background": "light"
     },
     "output_type": "display_data"
    }
   ],
   "source": [
    "# Odredjujemo broj podeoka histograma.\n",
    "duzina2 = ispitne.size\n",
    "k2 = math.floor(math.log(duzina2, 2)) + 1\n",
    "d2 = (ispitne[duzina2 - 1] - ispitne[0]) / k2\n",
    "print(\"Duzina: {0}\\nBroj kategorija: {1}\\nDuzina podeoka: {2}\".format(duzina2, k2, d2))\n",
    "\n",
    "plt.hist(ispitne, bins=k2, color='blue')\n",
    "plt.xlabel('Broj poena')\n",
    "plt.ylabel('Broj studenata')\n",
    "plt.title('Finalna raspodela poena u rokovima JAN1 i JAN2 (samo polozeni)')\n",
    "plt.grid(True)\n",
    "# plt.savefig(\"jan1_jan2_final.png\")\n",
    "plt.show()"
   ]
  },
  {
   "cell_type": "markdown",
   "metadata": {},
   "source": [
    "Medjutim, ovo je raspodela poena samo onih studenata koji su polozili ispit. Sakupljanjem podataka sa sajtova asistenata, dobili smo podatke o rokovima JAN1 i JAN2 pojedinacno, ali samo za pismeni ispit. Odvojene ukupne rezultate, kao i podatke za studente koji nisu polozili, nije bilo moguce dobiti. U nastavku prilazem raspodelu poena na pismenim ispitima u JAN1 i JAN2 odvojeno, i time zavrsavam ovaj domaci."
   ]
  },
  {
   "cell_type": "code",
   "execution_count": 189,
   "metadata": {},
   "outputs": [
    {
     "name": "stdout",
     "output_type": "stream",
     "text": [
      "JAN1:  [ 0  0  0  1  4  4  5  5  5  6  7 10 10 10 10 11 11 11 11 12 12 12 12 13\n",
      " 13 13 14 14 14 14 14 14 15 15 16 16 17 17 18 18 18 18 18 18 19 19]\n",
      "JAN2:  [ 5  7  7  8  8 10 10 10 10 11 11 12 12 12 12 12 13 13 13 13 14 14 14 14\n",
      " 14 15 15 15 15 15 15 16 16 16 17 17 18 18 19 19 19 20]\n"
     ]
    }
   ],
   "source": [
    "# U roku JAN2, asistentkinja Jelena je pregledala obe grupe radova.\n",
    "jan1_jelena = np.array([19, 14, 14, 12, 16, 18, 6, 4, 17, 14, 10, 15, 18, 17, 18, 5, 0])\n",
    "jan2_jelena_marija = np.array([13, 7, 16, 12, 18, 18, 16, 20, 12, 14, 15, 14, 7, 17, 15, 14, 12, 10, 13, 8, 8, 11, 5, 17, 15, 15])\n",
    "jan1_marija = np.array([0, 18, 11, 1, 7, 11, 16, 14, 5, 19, 13, 11, 12, 10])\n",
    "jan1_dusan = np.array([13, 18, 4, 14, 12, 13, 5, 10, 10, 15, 0, 14, 18, 11, 12])\n",
    "jan2_dusan = np.array([15, 10, 13, 19, 10, 19, 14, 12, 15, 11, 19, 14, 10, 16, 12, 13])\n",
    "\n",
    "jan1 = np.sort(np.concatenate((jan1_jelena, jan1_marija, jan1_dusan)))\n",
    "jan2 = np.sort(np.concatenate((jan2_jelena_marija, jan2_dusan)))\n",
    "print(\"JAN1: \", jan1)\n",
    "print(\"JAN2: \", jan2)"
   ]
  },
  {
   "cell_type": "code",
   "execution_count": 200,
   "metadata": {},
   "outputs": [
    {
     "name": "stdout",
     "output_type": "stream",
     "text": [
      "Duzina: 46\n",
      "Broj kategorija: 6\n",
      "Duzina podeoka: 3.1666666666666665\n"
     ]
    },
    {
     "data": {
      "image/png": "[encoded data removed]",
      "text/plain": [
       "<Figure size 432x288 with 1 Axes>"
      ]
     },
     "metadata": {
      "needs_background": "light"
     },
     "output_type": "display_data"
    }
   ],
   "source": [
    "# Odredjujemo broj podeoka histograma.\n",
    "duzina3 = jan1.size\n",
    "k3 = math.floor(math.log(duzina3, 2)) + 1\n",
    "d3 = (jan1[duzina3 - 1] - jan1[0]) / k3\n",
    "print(\"Duzina: {0}\\nBroj kategorija: {1}\\nDuzina podeoka: {2}\".format(duzina3, k3, d3))\n",
    "\n",
    "plt.hist(jan1, bins=k3, color='blue')\n",
    "plt.xlabel('Broj poena')\n",
    "plt.ylabel('Broj studenata')\n",
    "plt.title('Raspodela poena na pismenom ispitu u roku JAN1')\n",
    "plt.grid(True)\n",
    "# plt.savefig(\"jan1_pismeni.png\")\n",
    "plt.show()"
   ]
  },
  {
   "cell_type": "code",
   "execution_count": 201,
   "metadata": {},
   "outputs": [
    {
     "name": "stdout",
     "output_type": "stream",
     "text": [
      "Duzina: 42\n",
      "Broj kategorija: 6\n",
      "Duzina podeoka: 2.5\n"
     ]
    },
    {
     "data": {
      "image/png": "[encoded data removed]",
      "text/plain": [
       "<Figure size 432x288 with 1 Axes>"
      ]
     },
     "metadata": {
      "needs_background": "light"
     },
     "output_type": "display_data"
    }
   ],
   "source": [
    "# Odredjujemo broj podeoka histograma.\n",
    "duzina4 = jan2.size\n",
    "k4 = math.floor(math.log(duzina4, 2)) + 1\n",
    "d4 = (jan2[duzina4 - 1] - jan2[0]) / k4\n",
    "print(\"Duzina: {0}\\nBroj kategorija: {1}\\nDuzina podeoka: {2}\".format(duzina4, k4, d4))\n",
    "\n",
    "plt.hist(jan2, bins=k4, color='blue')\n",
    "plt.xlabel('Broj poena')\n",
    "plt.ylabel('Broj studenata')\n",
    "plt.title('Raspodela poena na pismenom ispitu u roku JAN2')\n",
    "plt.grid(True)\n",
    "# plt.savefig(\"jan2_pismeni.png\")\n",
    "plt.show()"
   ]
  },
  {
   "cell_type": "code",
   "execution_count": null,
   "metadata": {},
   "outputs": [],
   "source": []
  }
 ],
 "metadata": {
  "kernelspec": {
   "display_name": "Python 3",
   "language": "python",
   "name": "python3"
  },
  "language_info": {
   "codemirror_mode": {
    "name": "ipython",
    "version": 3
   },
   "file_extension": ".py",
   "mimetype": "text/x-python",
   "name": "python",
   "nbconvert_exporter": "python",
   "pygments_lexer": "ipython3",
   "version": "3.7.1"
  }
 },
 "nbformat": 4,
 "nbformat_minor": 2
}
